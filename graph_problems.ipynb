{
 "cells": [
  {
   "cell_type": "markdown",
   "metadata": {},
   "source": [
    "# Return clusters\n",
    "Return clusters of isolated but connected groups. For example, for input {{A-B}, {B-C}, {D-E}}, return {A,B,C} and {D,E}. Cycles can exist in these graphs."
   ]
  },
  {
   "cell_type": "code",
   "execution_count": 4,
   "metadata": {},
   "outputs": [],
   "source": [
    "# Build an undirected graph from the input\n",
    "from collections import defaultdict\n",
    "\n",
    "def build_graph(adjacency_list):\n",
    "    graph = defaultdict(list) # node: [adjacent_nodes]\n",
    "    \n",
    "    # Go through the pairs, add to the graph\n",
    "    for pair in adjacency_list:\n",
    "        graph[pair[0]].append(pair[1])\n",
    "        graph[pair[1]].append(pair[0])\n",
    "        \n",
    "    return graph"
   ]
  },
  {
   "cell_type": "code",
   "execution_count": 11,
   "metadata": {},
   "outputs": [],
   "source": [
    "# Do depth-first traversal on graph to find clusters\n",
    "\n",
    "# Build clusters by iterating over nodes\n",
    "def find_clusters(graph):\n",
    "    nodes_seen = []\n",
    "    clusters = []\n",
    "    for node in graph:\n",
    "        if not node in nodes_seen:\n",
    "            traversal = dft(node, graph)\n",
    "            clusters.append(traversal)\n",
    "            nodes_seen += traversal\n",
    "    \n",
    "    return clusters\n",
    "\n",
    "def dft(node, graph):\n",
    "    traversed = []\n",
    "    stack = [node]\n",
    "    while stack:\n",
    "        node = stack.pop()\n",
    "        traversed.append(node)\n",
    "        for adj_node in graph[node]:\n",
    "            if not adj_node in traversed: # handle cycles\n",
    "                stack.append(adj_node)\n",
    "            \n",
    "    return traversed"
   ]
  },
  {
   "cell_type": "code",
   "execution_count": 6,
   "metadata": {},
   "outputs": [
    {
     "data": {
      "text/plain": [
       "defaultdict(list,\n",
       "            {'A': ['B'], 'B': ['A', 'C'], 'C': ['B'], 'D': ['E'], 'E': ['D']})"
      ]
     },
     "execution_count": 6,
     "metadata": {},
     "output_type": "execute_result"
    }
   ],
   "source": [
    "# Test graph output\n",
    "test_adj_list = [('A','B'), ('B', 'C'), ('D', 'E')]\n",
    "test_graph = build_graph(test_adj_list)\n",
    "test_graph"
   ]
  },
  {
   "cell_type": "code",
   "execution_count": 12,
   "metadata": {},
   "outputs": [
    {
     "data": {
      "text/plain": [
       "[['A', 'B', 'C'], ['D', 'E']]"
      ]
     },
     "execution_count": 12,
     "metadata": {},
     "output_type": "execute_result"
    }
   ],
   "source": [
    "# Test cluster output\n",
    "find_clusters(test_graph)"
   ]
  }
 ],
 "metadata": {
  "kernelspec": {
   "display_name": "Python 3",
   "language": "python",
   "name": "python3"
  },
  "language_info": {
   "codemirror_mode": {
    "name": "ipython",
    "version": 3
   },
   "file_extension": ".py",
   "mimetype": "text/x-python",
   "name": "python",
   "nbconvert_exporter": "python",
   "pygments_lexer": "ipython3",
   "version": "3.7.6"
  }
 },
 "nbformat": 4,
 "nbformat_minor": 4
}
